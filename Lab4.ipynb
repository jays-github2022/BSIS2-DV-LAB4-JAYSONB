{
  "nbformat": 4,
  "nbformat_minor": 0,
  "metadata": {
    "colab": {
      "provenance": [],
      "authorship_tag": "ABX9TyPsqDrJ7NObBDJqOHuwNDE9",
      "include_colab_link": true
    },
    "kernelspec": {
      "name": "python3",
      "display_name": "Python 3"
    },
    "language_info": {
      "name": "python"
    }
  },
  "cells": [
    {
      "cell_type": "markdown",
      "metadata": {
        "id": "view-in-github",
        "colab_type": "text"
      },
      "source": [
        "<a href=\"https://colab.research.google.com/github/jays-github2022/BSIS2-DV-LAB4-JAYSONB/blob/main/Lab4.ipynb\" target=\"_parent\"><img src=\"https://colab.research.google.com/assets/colab-badge.svg\" alt=\"Open In Colab\"/></a>"
      ]
    },
    {
      "cell_type": "code",
      "execution_count": 1,
      "metadata": {
        "colab": {
          "base_uri": "https://localhost:8080/"
        },
        "id": "ltCa1Fi0w6ue",
        "outputId": "f34ba51e-d0ab-4b2d-f83a-57a098f3b20b"
      },
      "outputs": [
        {
          "output_type": "stream",
          "name": "stdout",
          "text": [
            "Enter the temperature outside to check the condition: 32\n",
            "Today's temperature is bad\n",
            "Please bring an umbrella or any protection\n"
          ]
        }
      ],
      "source": [
        "\n",
        "temperature = int(input(\"Enter the temperature outside to check the condition: \"))\n",
        "\n",
        "if temperature  >= 0 and temperature <= 30: \n",
        "  print(\"The temperature is good today\") \n",
        "  print(\"You may go outside!\")\n",
        "elif temperature >= 31 or temperature >= 40:\n",
        "    print(\"Today's temperature is bad\")\n",
        "    print(\"Please bring an umbrella or any protection\")"
      ]
    }
  ]
}